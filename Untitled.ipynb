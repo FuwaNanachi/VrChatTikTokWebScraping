{
 "cells": [
  {
   "cell_type": "markdown",
   "id": "d48addd8-9e57-4c64-85d1-3b2daea5f1e2",
   "metadata": {},
   "source": [
    "# Web Scraping Twitter to find best time for VrChat Content"
   ]
  },
  {
   "cell_type": "code",
   "execution_count": 1,
   "id": "a83c9fd1-658a-4b8f-82bc-e46b13822fce",
   "metadata": {},
   "outputs": [],
   "source": [
    "from twitter_keys import API_KEY, API_SECRET, ACCESS_TOKEN, ACCESS_SECRET\n",
    "import tweepy\n",
    "import pandas as pd\n",
    "\n",
    "auth = tweepy.OAuthHandler(API_KEY, API_SECRET)\n",
    "auth.set_access_token(ACCESS_TOKEN, ACCESS_SECRET)"
   ]
  },
  {
   "cell_type": "code",
   "execution_count": 2,
   "id": "24c616ff-b2e6-4c7e-81c6-85da0d21e718",
   "metadata": {},
   "outputs": [],
   "source": [
    "api = tweepy.API(auth)"
   ]
  },
  {
   "cell_type": "code",
   "execution_count": 3,
   "id": "09655cbf-8319-4c69-8f77-5f73c4743df9",
   "metadata": {},
   "outputs": [],
   "source": [
    "#woeid = '2430683'\n",
    "#trends = api.get_place_trends(id = woeid)"
   ]
  },
  {
   "cell_type": "code",
   "execution_count": 4,
   "id": "629f0510-bb85-4eae-9301-4bcb1e04ab29",
   "metadata": {},
   "outputs": [],
   "source": [
    "#import pickle\n",
    "\n",
    "#with open('trend_cache.pkl', 'wb') as f:\n",
    " #   pickle.dump(trends, f)"
   ]
  },
  {
   "cell_type": "code",
   "execution_count": 5,
   "id": "5b087571-d2d1-4fc1-ad4e-f8795e79f7ba",
   "metadata": {},
   "outputs": [],
   "source": [
    "#def printtweetdata(n, ith_tweet):\n",
    "   #     print()\n",
    " #       print(f\"Tweet {n}:\")\n",
    "  #      print(f\"Username:{ith_tweet[0]}\")\n",
    "   #     print(f\"Description:{ith_tweet[1]}\")\n",
    "    #    print(f\"Location:{ith_tweet[2]}\")\n",
    "     #   print(f\"Following Count:{ith_tweet[3]}\")\n",
    "      #  print(f\"Follower Count:{ith_tweet[4]}\")\n",
    "       # print(f\"Total Tweets:{ith_tweet[5]}\")\n",
    "        #print(f\"Retweet Count:{ith_tweet[6]}\")\n",
    "#        print(f\"Tweet Text:{ith_tweet[7]}\")\n",
    " #       print(f\"Hashtags Used:{ith_tweet[8]}\")    "
   ]
  },
  {
   "cell_type": "code",
   "execution_count": 6,
   "id": "063bdb7f-ea00-4aa3-98de-b84a30b4daab",
   "metadata": {},
   "outputs": [],
   "source": [
    "import pickle\n",
    "def scrape(words, date_since, numtweet):\n",
    "    db = pd.DataFrame(columns=['username','description','location','following','followers','totaltweets','retweetcount','text','hashtags'])\n",
    "    i = 1\n",
    "    tweets = tweepy.Cursor(api.search_tweets,\n",
    "                               words, lang=\"en\",\n",
    "                               since_id=date_since,\n",
    "                               tweet_mode='extended').items(1000)\n",
    "    for tweet in tweets:\n",
    "        username = tweet.user.screen_name\n",
    "        description = tweet.user.description\n",
    "        location = tweet.user.location\n",
    "        following = tweet.user.friends_count\n",
    "        followers = tweet.user.followers_count\n",
    "        totaltweets = tweet.user.statuses_count\n",
    "        retweetcount = tweet.retweet_count\n",
    "        hashtags = tweet.entities['hashtags']\n",
    "        try:\n",
    "            text = tweet.retweeted_status.full_text\n",
    "        except AttributeError:\n",
    "            text = tweet.full_text\n",
    "        hashtext = list()\n",
    "        for j in range(0, len(hashtags)):\n",
    "            hashtext.append(hashtags[j]['text'])\n",
    "\n",
    "                    # Here we are appending all the\n",
    "                    # extracted information in the DataFrame\n",
    "            ith_tweet = [username, description,\n",
    "            location, following,\n",
    "            followers, totaltweets,\n",
    "            retweetcount, text, hashtext]\n",
    "            db.loc[len(db)] = ith_tweet\n",
    "\n",
    "                    # Function call to print tweet data on screen\n",
    "            #printtweetdata(i, ith_tweet)\n",
    "            #i = i+1\n",
    "        filename = 'scraped_tweets.csv'\n",
    "\n",
    "            # we will save our database as a CSV file.\n",
    "        with open('filename.pkl', 'wb') as f:\n",
    "            pickle.dump(filename, f)\n",
    "        db.to_csv(filename)"
   ]
  },
  {
   "cell_type": "code",
   "execution_count": 7,
   "id": "87abd3b9-0a5c-4665-a9b3-73feedbdcb99",
   "metadata": {},
   "outputs": [
    {
     "name": "stdout",
     "output_type": "stream",
     "text": [
      "Enter Twitter HashTag to search for\n"
     ]
    },
    {
     "name": "stdin",
     "output_type": "stream",
     "text": [
      " VrChat\n"
     ]
    },
    {
     "name": "stdout",
     "output_type": "stream",
     "text": [
      "Enter Date since The Tweets are required in yyyy-mm--dd\n"
     ]
    },
    {
     "name": "stdin",
     "output_type": "stream",
     "text": [
      " 2022-03-01\n"
     ]
    },
    {
     "name": "stdout",
     "output_type": "stream",
     "text": [
      "Scraping has completed!\n"
     ]
    }
   ],
   "source": [
    "if __name__ == '__main__':\n",
    "    auth = tweepy.OAuthHandler(API_KEY, API_SECRET)\n",
    "    auth.set_access_token(ACCESS_TOKEN, ACCESS_SECRET)\n",
    "    api = tweepy.API(auth)\n",
    " \n",
    "        # Enter Hashtag and initial date\n",
    "    print(\"Enter Twitter HashTag to search for\")\n",
    "    words = input()\n",
    "    print(\"Enter Date since The Tweets are required in yyyy-mm--dd\")\n",
    "    date_since = input()\n",
    " \n",
    "        # number of tweets you want to extract in one run\n",
    "    numtweet = 1000\n",
    "    scrape(words, date_since, numtweet)\n",
    "    print('Scraping has completed!')"
   ]
  },
  {
   "cell_type": "code",
   "execution_count": null,
   "id": "0b32c608-162c-4dd8-936f-78b58ee84b8d",
   "metadata": {},
   "outputs": [],
   "source": [
    "print"
   ]
  }
 ],
 "metadata": {
  "kernelspec": {
   "display_name": "Python 3 (ipykernel)",
   "language": "python",
   "name": "python3"
  },
  "language_info": {
   "codemirror_mode": {
    "name": "ipython",
    "version": 3
   },
   "file_extension": ".py",
   "mimetype": "text/x-python",
   "name": "python",
   "nbconvert_exporter": "python",
   "pygments_lexer": "ipython3",
   "version": "3.10.3"
  }
 },
 "nbformat": 4,
 "nbformat_minor": 5
}

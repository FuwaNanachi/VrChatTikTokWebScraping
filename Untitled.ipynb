{
 "cells": [
  {
   "cell_type": "markdown",
   "id": "d48addd8-9e57-4c64-85d1-3b2daea5f1e2",
   "metadata": {},
   "source": [
    "# Web Scraping Tiktok to find best time for VrChat Content"
   ]
  },
  {
   "cell_type": "code",
   "execution_count": 7,
   "id": "a83c9fd1-658a-4b8f-82bc-e46b13822fce",
   "metadata": {},
   "outputs": [
    {
     "name": "stderr",
     "output_type": "stream",
     "text": [
      "Exception ignored in: <function TikTokApi.__del__ at 0x000002B49C1F0E50>\n",
      "Traceback (most recent call last):\n",
      "  File \"C:\\Users\\s523088\\dm-venv310\\lib\\site-packages\\TikTokApi\\tiktok.py\", line 387, in __del__\n",
      "    self.shutdown()\n",
      "  File \"C:\\Users\\s523088\\dm-venv310\\lib\\site-packages\\TikTokApi\\tiktok.py\", line 601, in shutdown\n",
      "    asyncio.get_event_loop().run_until_complete(self._browser._clean_up())\n",
      "AttributeError: 'TikTokApi' object has no attribute '_browser'\n",
      "_GatheringFuture exception was never retrieved\n",
      "future: <_GatheringFuture finished exception=NotImplementedError()>\n",
      "Traceback (most recent call last):\n",
      "  File \"C:\\Users\\s523088\\dm-venv310\\lib\\site-packages\\TikTokApi\\browser_utilities\\browser.py\", line 72, in create\n",
      "    self._thread_locals.playwright = await async_playwright().start()\n",
      "  File \"C:\\Users\\s523088\\dm-venv310\\lib\\site-packages\\playwright\\async_api\\_context_manager.py\", line 51, in start\n",
      "    return await self.__aenter__()\n",
      "  File \"C:\\Users\\s523088\\dm-venv310\\lib\\site-packages\\playwright\\async_api\\_context_manager.py\", line 46, in __aenter__\n",
      "    playwright = AsyncPlaywright(next(iter(done)).result())\n",
      "  File \"C:\\Users\\s523088\\dm-venv310\\lib\\site-packages\\playwright\\_impl\\_connection.py\", line 182, in run\n",
      "    await self._transport.connect()\n",
      "  File \"C:\\Users\\s523088\\dm-venv310\\lib\\site-packages\\playwright\\_impl\\_transport.py\", line 140, in connect\n",
      "    raise exc\n",
      "  File \"C:\\Users\\s523088\\dm-venv310\\lib\\site-packages\\playwright\\_impl\\_transport.py\", line 128, in connect\n",
      "    self._proc = await asyncio.create_subprocess_exec(\n",
      "  File \"C:\\Users\\s523088\\AppData\\Local\\Programs\\Python\\Python310\\lib\\asyncio\\subprocess.py\", line 218, in create_subprocess_exec\n",
      "    transport, protocol = await loop.subprocess_exec(\n",
      "  File \"C:\\Users\\s523088\\AppData\\Local\\Programs\\Python\\Python310\\lib\\asyncio\\base_events.py\", line 1667, in subprocess_exec\n",
      "    transport = await self._make_subprocess_transport(\n",
      "  File \"C:\\Users\\s523088\\AppData\\Local\\Programs\\Python\\Python310\\lib\\asyncio\\base_events.py\", line 498, in _make_subprocess_transport\n",
      "    raise NotImplementedError\n",
      "NotImplementedError\n"
     ]
    },
    {
     "ename": "RuntimeError",
     "evalue": "This event loop is already running",
     "output_type": "error",
     "traceback": [
      "\u001b[1;31m---------------------------------------------------------------------------\u001b[0m",
      "\u001b[1;31mRuntimeError\u001b[0m                              Traceback (most recent call last)",
      "Input \u001b[1;32mIn [7]\u001b[0m, in \u001b[0;36m<module>\u001b[1;34m\u001b[0m\n\u001b[0;32m      1\u001b[0m \u001b[38;5;66;03m#Import tiktok api\u001b[39;00m\n\u001b[0;32m      3\u001b[0m \u001b[38;5;28;01mfrom\u001b[39;00m \u001b[38;5;21;01mTikTokApi\u001b[39;00m \u001b[38;5;28;01mimport\u001b[39;00m TikTokApi\n\u001b[1;32m----> 5\u001b[0m \u001b[38;5;28;01mwith\u001b[39;00m \u001b[43mTikTokApi\u001b[49m\u001b[43m(\u001b[49m\u001b[43m)\u001b[49m \u001b[38;5;28;01mas\u001b[39;00m api:\n\u001b[0;32m      6\u001b[0m     \u001b[38;5;66;03m# Prints the author's username of the trending video.\u001b[39;00m\n\u001b[0;32m      7\u001b[0m     \u001b[38;5;28mprint\u001b[39m(trending_video\u001b[38;5;241m.\u001b[39mauthor\u001b[38;5;241m.\u001b[39musername)\n",
      "File \u001b[1;32m~\\dm-venv310\\lib\\site-packages\\TikTokApi\\tiktok.py:119\u001b[0m, in \u001b[0;36mTikTokApi.__init__\u001b[1;34m(self, logging_level, request_delay, custom_device_id, generate_static_device_id, custom_verify_fp, use_test_endpoints, proxy, executable_path, *args, **kwargs)\u001b[0m\n\u001b[0;32m    116\u001b[0m \u001b[38;5;28mself\u001b[39m\u001b[38;5;241m.\u001b[39mlogger\u001b[38;5;241m.\u001b[39msetLevel(logging_level)\n\u001b[0;32m    118\u001b[0m \u001b[38;5;28;01mwith\u001b[39;00m _thread_lock:\n\u001b[1;32m--> 119\u001b[0m     \u001b[38;5;28mself\u001b[39m\u001b[38;5;241m.\u001b[39m_initialize(\n\u001b[0;32m    120\u001b[0m         request_delay\u001b[38;5;241m=\u001b[39mrequest_delay,\n\u001b[0;32m    121\u001b[0m         custom_device_id\u001b[38;5;241m=\u001b[39mcustom_device_id,\n\u001b[0;32m    122\u001b[0m         generate_static_device_id\u001b[38;5;241m=\u001b[39mgenerate_static_device_id,\n\u001b[0;32m    123\u001b[0m         custom_verify_fp\u001b[38;5;241m=\u001b[39mcustom_verify_fp,\n\u001b[0;32m    124\u001b[0m         use_test_endpoints\u001b[38;5;241m=\u001b[39muse_test_endpoints,\n\u001b[0;32m    125\u001b[0m         proxy\u001b[38;5;241m=\u001b[39mproxy,\n\u001b[0;32m    126\u001b[0m         executable_path\u001b[38;5;241m=\u001b[39mexecutable_path,\n\u001b[0;32m    127\u001b[0m         \u001b[38;5;241m*\u001b[39margs,\n\u001b[0;32m    128\u001b[0m         \u001b[38;5;241m*\u001b[39m\u001b[38;5;241m*\u001b[39mkwargs,\n\u001b[0;32m    129\u001b[0m     )\n",
      "File \u001b[1;32m~\\dm-venv310\\lib\\site-packages\\TikTokApi\\tiktok.py:163\u001b[0m, in \u001b[0;36mTikTokApi._initialize\u001b[1;34m(self, **kwargs)\u001b[0m\n\u001b[0;32m    158\u001b[0m     \u001b[38;5;28mself\u001b[39m\u001b[38;5;241m.\u001b[39m_custom_device_id \u001b[38;5;241m=\u001b[39m \u001b[38;5;124m\"\u001b[39m\u001b[38;5;124m\"\u001b[39m\u001b[38;5;241m.\u001b[39mjoin(\n\u001b[0;32m    159\u001b[0m         random\u001b[38;5;241m.\u001b[39mchoice(string\u001b[38;5;241m.\u001b[39mdigits) \u001b[38;5;28;01mfor\u001b[39;00m num \u001b[38;5;129;01min\u001b[39;00m \u001b[38;5;28mrange\u001b[39m(\u001b[38;5;241m19\u001b[39m)\n\u001b[0;32m    160\u001b[0m     )\n\u001b[0;32m    162\u001b[0m \u001b[38;5;28;01mif\u001b[39;00m \u001b[38;5;28mself\u001b[39m\u001b[38;5;241m.\u001b[39m_signer_url \u001b[38;5;129;01mis\u001b[39;00m \u001b[38;5;28;01mNone\u001b[39;00m:\n\u001b[1;32m--> 163\u001b[0m     \u001b[38;5;28mself\u001b[39m\u001b[38;5;241m.\u001b[39m_browser \u001b[38;5;241m=\u001b[39m \u001b[43masyncio\u001b[49m\u001b[38;5;241;43m.\u001b[39;49m\u001b[43mget_event_loop\u001b[49m\u001b[43m(\u001b[49m\u001b[43m)\u001b[49m\u001b[38;5;241;43m.\u001b[39;49m\u001b[43mrun_until_complete\u001b[49m\u001b[43m(\u001b[49m\n\u001b[0;32m    164\u001b[0m \u001b[43m        \u001b[49m\u001b[43masyncio\u001b[49m\u001b[38;5;241;43m.\u001b[39;49m\u001b[43mgather\u001b[49m\u001b[43m(\u001b[49m\u001b[43mbrowser\u001b[49m\u001b[38;5;241;43m.\u001b[39;49m\u001b[43mcreate\u001b[49m\u001b[43m(\u001b[49m\u001b[38;5;241;43m*\u001b[39;49m\u001b[38;5;241;43m*\u001b[39;49m\u001b[43mkwargs\u001b[49m\u001b[43m)\u001b[49m\u001b[43m)\u001b[49m\n\u001b[0;32m    165\u001b[0m \u001b[43m    \u001b[49m\u001b[43m)\u001b[49m[\u001b[38;5;241m0\u001b[39m]\n\u001b[0;32m    167\u001b[0m     \u001b[38;5;28mself\u001b[39m\u001b[38;5;241m.\u001b[39m_user_agent \u001b[38;5;241m=\u001b[39m \u001b[38;5;28mself\u001b[39m\u001b[38;5;241m.\u001b[39m_browser\u001b[38;5;241m.\u001b[39muser_agent\n\u001b[0;32m    169\u001b[0m \u001b[38;5;28;01mtry\u001b[39;00m:\n",
      "File \u001b[1;32m~\\AppData\\Local\\Programs\\Python\\Python310\\lib\\asyncio\\base_events.py:622\u001b[0m, in \u001b[0;36mBaseEventLoop.run_until_complete\u001b[1;34m(self, future)\u001b[0m\n\u001b[0;32m    611\u001b[0m \u001b[38;5;124;03m\"\"\"Run until the Future is done.\u001b[39;00m\n\u001b[0;32m    612\u001b[0m \n\u001b[0;32m    613\u001b[0m \u001b[38;5;124;03mIf the argument is a coroutine, it is wrapped in a Task.\u001b[39;00m\n\u001b[1;32m   (...)\u001b[0m\n\u001b[0;32m    619\u001b[0m \u001b[38;5;124;03mReturn the Future's result, or raise its exception.\u001b[39;00m\n\u001b[0;32m    620\u001b[0m \u001b[38;5;124;03m\"\"\"\u001b[39;00m\n\u001b[0;32m    621\u001b[0m \u001b[38;5;28mself\u001b[39m\u001b[38;5;241m.\u001b[39m_check_closed()\n\u001b[1;32m--> 622\u001b[0m \u001b[38;5;28;43mself\u001b[39;49m\u001b[38;5;241;43m.\u001b[39;49m\u001b[43m_check_running\u001b[49m\u001b[43m(\u001b[49m\u001b[43m)\u001b[49m\n\u001b[0;32m    624\u001b[0m new_task \u001b[38;5;241m=\u001b[39m \u001b[38;5;129;01mnot\u001b[39;00m futures\u001b[38;5;241m.\u001b[39misfuture(future)\n\u001b[0;32m    625\u001b[0m future \u001b[38;5;241m=\u001b[39m tasks\u001b[38;5;241m.\u001b[39mensure_future(future, loop\u001b[38;5;241m=\u001b[39m\u001b[38;5;28mself\u001b[39m)\n",
      "File \u001b[1;32m~\\AppData\\Local\\Programs\\Python\\Python310\\lib\\asyncio\\base_events.py:582\u001b[0m, in \u001b[0;36mBaseEventLoop._check_running\u001b[1;34m(self)\u001b[0m\n\u001b[0;32m    580\u001b[0m \u001b[38;5;28;01mdef\u001b[39;00m \u001b[38;5;21m_check_running\u001b[39m(\u001b[38;5;28mself\u001b[39m):\n\u001b[0;32m    581\u001b[0m     \u001b[38;5;28;01mif\u001b[39;00m \u001b[38;5;28mself\u001b[39m\u001b[38;5;241m.\u001b[39mis_running():\n\u001b[1;32m--> 582\u001b[0m         \u001b[38;5;28;01mraise\u001b[39;00m \u001b[38;5;167;01mRuntimeError\u001b[39;00m(\u001b[38;5;124m'\u001b[39m\u001b[38;5;124mThis event loop is already running\u001b[39m\u001b[38;5;124m'\u001b[39m)\n\u001b[0;32m    583\u001b[0m     \u001b[38;5;28;01mif\u001b[39;00m events\u001b[38;5;241m.\u001b[39m_get_running_loop() \u001b[38;5;129;01mis\u001b[39;00m \u001b[38;5;129;01mnot\u001b[39;00m \u001b[38;5;28;01mNone\u001b[39;00m:\n\u001b[0;32m    584\u001b[0m         \u001b[38;5;28;01mraise\u001b[39;00m \u001b[38;5;167;01mRuntimeError\u001b[39;00m(\n\u001b[0;32m    585\u001b[0m             \u001b[38;5;124m'\u001b[39m\u001b[38;5;124mCannot run the event loop while another loop is running\u001b[39m\u001b[38;5;124m'\u001b[39m)\n",
      "\u001b[1;31mRuntimeError\u001b[0m: This event loop is already running"
     ]
    },
    {
     "name": "stderr",
     "output_type": "stream",
     "text": [
      "Task exception was never retrieved\n",
      "future: <Task finished name='Task-8' coro=<Connection.run() done, defined at C:\\Users\\s523088\\dm-venv310\\lib\\site-packages\\playwright\\_impl\\_connection.py:175> exception=NotImplementedError()>\n",
      "Traceback (most recent call last):\n",
      "  File \"C:\\Users\\s523088\\dm-venv310\\lib\\site-packages\\playwright\\_impl\\_connection.py\", line 182, in run\n",
      "    await self._transport.connect()\n",
      "  File \"C:\\Users\\s523088\\dm-venv310\\lib\\site-packages\\playwright\\_impl\\_transport.py\", line 140, in connect\n",
      "    raise exc\n",
      "  File \"C:\\Users\\s523088\\dm-venv310\\lib\\site-packages\\playwright\\_impl\\_transport.py\", line 128, in connect\n",
      "    self._proc = await asyncio.create_subprocess_exec(\n",
      "  File \"C:\\Users\\s523088\\AppData\\Local\\Programs\\Python\\Python310\\lib\\asyncio\\subprocess.py\", line 218, in create_subprocess_exec\n",
      "    transport, protocol = await loop.subprocess_exec(\n",
      "  File \"C:\\Users\\s523088\\AppData\\Local\\Programs\\Python\\Python310\\lib\\asyncio\\base_events.py\", line 1667, in subprocess_exec\n",
      "    transport = await self._make_subprocess_transport(\n",
      "  File \"C:\\Users\\s523088\\AppData\\Local\\Programs\\Python\\Python310\\lib\\asyncio\\base_events.py\", line 498, in _make_subprocess_transport\n",
      "    raise NotImplementedError\n",
      "NotImplementedError\n"
     ]
    }
   ],
   "source": [
    "#Import tiktok api\n",
    "\n",
    "from TikTokApi import TikTokApi\n",
    "\n",
    "\n",
    "\n",
    "with TikTokApi() as api:\n",
    "    # Prints the author's username of the trending video.\n",
    "    print(trending_video.author.username)"
   ]
  },
  {
   "cell_type": "code",
   "execution_count": null,
   "id": "24c616ff-b2e6-4c7e-81c6-85da0d21e718",
   "metadata": {},
   "outputs": [],
   "source": []
  }
 ],
 "metadata": {
  "kernelspec": {
   "display_name": "Python 3 (ipykernel)",
   "language": "python",
   "name": "python3"
  },
  "language_info": {
   "codemirror_mode": {
    "name": "ipython",
    "version": 3
   },
   "file_extension": ".py",
   "mimetype": "text/x-python",
   "name": "python",
   "nbconvert_exporter": "python",
   "pygments_lexer": "ipython3",
   "version": "3.10.3"
  }
 },
 "nbformat": 4,
 "nbformat_minor": 5
}
